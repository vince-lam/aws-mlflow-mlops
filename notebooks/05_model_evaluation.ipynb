{
 "cells": [
  {
   "cell_type": "code",
   "execution_count": 1,
   "metadata": {},
   "outputs": [],
   "source": [
    "import os\n",
    "\n",
    "mlflow_tracking_uri = os.getenv(\"MLFLOW_TRACKING_URI\")"
   ]
  },
  {
   "cell_type": "code",
   "execution_count": 2,
   "metadata": {},
   "outputs": [
    {
     "data": {
      "text/plain": [
       "'/Users/vince/code/projects/aws-mlflow-mlops'"
      ]
     },
     "execution_count": 2,
     "metadata": {},
     "output_type": "execute_result"
    }
   ],
   "source": [
    "os.chdir(\"../\")\n",
    "%pwd"
   ]
  },
  {
   "cell_type": "code",
   "execution_count": 3,
   "metadata": {},
   "outputs": [],
   "source": [
    "# Config entity\n",
    "from dataclasses import dataclass\n",
    "from pathlib import Path\n",
    "\n",
    "\n",
    "@dataclass\n",
    "class ModelEvaluationConfig:\n",
    "    root_dir: Path\n",
    "    test_data_path: Path\n",
    "    model_path: Path\n",
    "    all_params: dict\n",
    "    metric_file_name: Path\n",
    "    target_column: str\n",
    "    mlflow_uri: str"
   ]
  },
  {
   "cell_type": "code",
   "execution_count": 4,
   "metadata": {},
   "outputs": [],
   "source": [
    "# Config manager\n",
    "from src.aws_mlflow_mlops.constants import *\n",
    "from src.aws_mlflow_mlops.utils.common import read_yaml, create_directories, save_json\n",
    "\n",
    "# from src.aws_mlflow_mlops.entity.config_entity import ModelEvaluationConfig\n",
    "from typing import Dict\n",
    "\n",
    "\n",
    "class ConfigurationManager:\n",
    "    \"\"\"\n",
    "    The ConfigurationManager class is responsible for managing the configuration of the data ingestion process.\n",
    "    It reads configuration, parameters, and schema from YAML files, and creates necessary directories.\n",
    "\n",
    "    Attributes:\n",
    "        config (dict): Configuration read from a YAML file.\n",
    "        params (dict): Parameters read from a YAML file.\n",
    "        schema (dict): Schema read from a YAML file.\n",
    "    \"\"\"\n",
    "\n",
    "    def __init__(\n",
    "        self,\n",
    "        config_filepath: Path = CONFIG_FILE_PATH,\n",
    "        params_filepath: Path = PARAMS_FILE_PATH,\n",
    "        schema_filepath: Path = SCHEMA_FILE_PATH,\n",
    "    ):\n",
    "        \"\"\"\n",
    "        The constructor for ConfigurationManager class.\n",
    "\n",
    "        Parameters:\n",
    "            config_filepath (str): The path to the configuration YAML file.\n",
    "            params_filepath (str): The path to the parameters YAML file.\n",
    "            schema_filepath (str): The path to the schema YAML file.\n",
    "        \"\"\"\n",
    "        self.config: Dict = read_yaml(config_filepath)\n",
    "        self.params: Dict = read_yaml(params_filepath)\n",
    "        self.schema: Dict = read_yaml(schema_filepath)\n",
    "\n",
    "        create_directories([self.config[\"artifacts_root\"]])\n",
    "\n",
    "    def get_model_evaluation_config(self) -> ModelEvaluationConfig:\n",
    "        config = self.config[\"model_evaluation\"]\n",
    "        params = self.params[\"ElasticNet\"]\n",
    "        schema = self.schema[\"TARGET_COLUMN\"]\n",
    "\n",
    "        create_directories([config[\"root_dir\"]])\n",
    "\n",
    "        model_evaluation_config = ModelEvaluationConfig(\n",
    "            root_dir=config[\"root_dir\"],\n",
    "            test_data_path=config[\"test_data_path\"],\n",
    "            model_path=config[\"model_path\"],\n",
    "            all_params=params,\n",
    "            metric_file_name=config[\"metric_file_name\"],\n",
    "            target_column=schema[\"name\"],\n",
    "            mlflow_uri=mlflow_tracking_uri,\n",
    "        )\n",
    "\n",
    "        return model_evaluation_config"
   ]
  },
  {
   "cell_type": "code",
   "execution_count": 5,
   "metadata": {},
   "outputs": [],
   "source": [
    "# Components\n",
    "# Components\n",
    "import os\n",
    "from urllib.parse import urlparse\n",
    "\n",
    "import joblib\n",
    "import mlflow\n",
    "import mlflow.sklearn\n",
    "import numpy as np\n",
    "import pandas as pd\n",
    "from sklearn.metrics import mean_absolute_error, mean_squared_error, r2_score\n",
    "\n",
    "\n",
    "class ModelEvaluation:\n",
    "    def __init__(self, config: ModelEvaluationConfig):\n",
    "        self.config = config\n",
    "\n",
    "    def evaluation_metrics(self, actual, pred):\n",
    "        rmse = np.sqrt(mean_squared_error(actual, pred))\n",
    "        mae = mean_absolute_error(actual, pred)\n",
    "        r2 = r2_score(actual, pred)\n",
    "        return rmse, mae, r2\n",
    "\n",
    "    def log_into_mlflow(self):\n",
    "        # Load test data and model\n",
    "        test_data = pd.read_csv(self.config.test_data_path)\n",
    "        model = joblib.load(self.config.model_path)\n",
    "\n",
    "        test_x = test_data.drop([self.config.target_column], axis=1)\n",
    "        test_y = test_data[[self.config.target_column]]\n",
    "\n",
    "        mlflow.set_registry_uri(self.config.mlflow_uri)\n",
    "        tracking_url_type_store = urlparse(mlflow.get_registry_uri()).scheme\n",
    "\n",
    "        with mlflow.start_run():\n",
    "            predicted_qualities = model.predict(test_x)\n",
    "            (rmse, mae, r2) = self.evaluation_metrics(test_y, predicted_qualities)\n",
    "\n",
    "            # Save metrics as local\n",
    "            scores = {\n",
    "                \"rmse\": rmse,\n",
    "                \"r2\": r2,\n",
    "                \"mae\": mae,\n",
    "            }\n",
    "            print(scores)\n",
    "            save_json(path=Path(self.config.metric_file_name), data=scores)\n",
    "\n",
    "            print(\"Elasticnet model (alpha=%f, l1_ratio=%f):\" % (model.alpha, model.l1_ratio))\n",
    "            print(\"  RMSE: %s\" % rmse)\n",
    "            print(\"  MAE: %s\" % mae)\n",
    "            print(\"  R2: %s\" % r2)\n",
    "\n",
    "            mlflow.log_params(self.config.all_params)\n",
    "\n",
    "            mlflow.log_metric(\"rmse\", rmse)\n",
    "            mlflow.log_metric(\"r2\", r2)\n",
    "            mlflow.log_metric(\"mae\", mae)\n",
    "\n",
    "            # Model registry does not work with file store\n",
    "            if tracking_url_type_store != \"file\":\n",
    "                mlflow.sklearn.log_model(model, \"model\", registered_model_name=\"ElasticnetModel\")\n",
    "            else:\n",
    "                mlflow.sklearn.log_model(model, \"model\")"
   ]
  },
  {
   "cell_type": "code",
   "execution_count": 6,
   "metadata": {},
   "outputs": [
    {
     "name": "stdout",
     "output_type": "stream",
     "text": [
      "[2023-11-28 18:43:16,769: INFO: common: yaml file: config/config.yaml loaded successfully]\n",
      "[2023-11-28 18:43:16,773: INFO: common: yaml file: params.yaml loaded successfully]\n",
      "[2023-11-28 18:43:16,775: INFO: common: yaml file: schema.yaml loaded successfully]\n",
      "[2023-11-28 18:43:16,776: INFO: common: created directory at: artifacts]\n",
      "[2023-11-28 18:43:16,777: INFO: common: created directory at: artifacts/model_evaluation]\n",
      "{'rmse': 0.8050863675052666, 'r2': 0.008174066315615902, 'mae': 0.6594651869732101}\n",
      "[2023-11-28 18:43:17,666: INFO: common: JSON file saved at: artifacts/model_evaluation/metrics.json]\n",
      "Elasticnet model (alpha=0.900000, l1_ratio=0.800000):\n",
      "  RMSE: 0.8050863675052666\n",
      "  MAE: 0.6594651869732101\n",
      "  R2: 0.008174066315615902\n"
     ]
    },
    {
     "name": "stderr",
     "output_type": "stream",
     "text": [
      "Registered model 'ElasticnetModel' already exists. Creating a new version of this model...\n",
      "2023/11/28 18:43:24 INFO mlflow.store.model_registry.abstract_store: Waiting up to 300 seconds for model version to finish creation. Model name: ElasticnetModel, version 9\n",
      "Created version '9' of model 'ElasticnetModel'.\n"
     ]
    }
   ],
   "source": [
    "# Pipeline\n",
    "try:\n",
    "    config = ConfigurationManager()\n",
    "    model_evaluation_config = config.get_model_evaluation_config()\n",
    "    model_evaluation_config = ModelEvaluation(config=model_evaluation_config)\n",
    "    model_evaluation_config.log_into_mlflow()\n",
    "except Exception as e:\n",
    "    raise e"
   ]
  }
 ],
 "metadata": {
  "kernelspec": {
   "display_name": "aws-mlflow-mlops-4s9Eb2nN-py3.10",
   "language": "python",
   "name": "python3"
  },
  "language_info": {
   "codemirror_mode": {
    "name": "ipython",
    "version": 3
   },
   "file_extension": ".py",
   "mimetype": "text/x-python",
   "name": "python",
   "nbconvert_exporter": "python",
   "pygments_lexer": "ipython3",
   "version": "3.10.9"
  }
 },
 "nbformat": 4,
 "nbformat_minor": 2
}
