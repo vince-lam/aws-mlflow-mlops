{
 "cells": [
  {
   "cell_type": "code",
   "execution_count": 1,
   "metadata": {},
   "outputs": [],
   "source": [
    "import os\n",
    "\n",
    "os.chdir(\"../\")"
   ]
  },
  {
   "cell_type": "code",
   "execution_count": 2,
   "metadata": {},
   "outputs": [
    {
     "data": {
      "text/plain": [
       "'/Users/vince/code/projects/aws-mlflow-mlops'"
      ]
     },
     "execution_count": 2,
     "metadata": {},
     "output_type": "execute_result"
    }
   ],
   "source": [
    "%pwd"
   ]
  },
  {
   "cell_type": "code",
   "execution_count": 3,
   "metadata": {},
   "outputs": [],
   "source": [
    "# Update entity\n",
    "from dataclasses import dataclass\n",
    "from pathlib import Path\n",
    "\n",
    "\n",
    "@dataclass(frozen=True)\n",
    "class DataTransformationConfig:\n",
    "    root_dir: Path\n",
    "    data_path: Path"
   ]
  },
  {
   "cell_type": "code",
   "execution_count": 4,
   "metadata": {},
   "outputs": [],
   "source": [
    "# Update configuration manager\n",
    "from src.aws_mlflow_mlops.constants import *\n",
    "from src.aws_mlflow_mlops.utils.common import read_yaml, create_directories"
   ]
  },
  {
   "cell_type": "code",
   "execution_count": 12,
   "metadata": {},
   "outputs": [],
   "source": [
    "class ConfigurationManager:\n",
    "    \"\"\"\n",
    "    The ConfigurationManager class is responsible for managing the configuration of the data ingestion process.\n",
    "    It reads configuration, parameters, and schema from YAML files, and creates necessary directories.\n",
    "\n",
    "    Attributes:\n",
    "        config (dict): Configuration read from a YAML file.\n",
    "        params (dict): Parameters read from a YAML file.\n",
    "        schema (dict): Schema read from a YAML file.\n",
    "    \"\"\"\n",
    "\n",
    "    def __init__(\n",
    "        self,\n",
    "        config_filepath=CONFIG_FILE_PATH,\n",
    "        params_filepath=PARAMS_FILE_PATH,\n",
    "        schema_filepath=SCHEMA_FILE_PATH,\n",
    "    ):\n",
    "        \"\"\"\n",
    "        The constructor for ConfigurationManager class.\n",
    "\n",
    "        Parameters:\n",
    "            config_filepath (str): The path to the configuration YAML file.\n",
    "            params_filepath (str): The path to the parameters YAML file.\n",
    "            schema_filepath (str): The path to the schema YAML file.\n",
    "        \"\"\"\n",
    "        self.config = read_yaml(config_filepath)\n",
    "        self.params = read_yaml(params_filepath)\n",
    "        self.schema = read_yaml(schema_filepath)\n",
    "\n",
    "        create_directories([self.config.artifacts_root])\n",
    "\n",
    "    def get_data_transformation_config(self) -> DataTransformationConfig:\n",
    "        \"\"\"\n",
    "        The method to get the data transformation configuration.\n",
    "\n",
    "        This method retrieves the data transformation configuration from the main configuration object,\n",
    "        creates a DataTransformationConfig instance with the root directory and data path from the configuration,\n",
    "        and returns this instance.\n",
    "\n",
    "        Returns:\n",
    "            DataTransformationConfig: An instance of DataTransformationConfig with the root directory and data path from the configuration.\n",
    "        \"\"\"\n",
    "        config = self.config.data_transformation\n",
    "\n",
    "        create_directories([config.root_dir])\n",
    "\n",
    "        data_transformation_config = DataTransformationConfig(\n",
    "            root_dir=config.root_dir,\n",
    "            data_path=config.data_path,\n",
    "        )\n",
    "\n",
    "        return data_transformation_config"
   ]
  },
  {
   "cell_type": "code",
   "execution_count": 13,
   "metadata": {},
   "outputs": [],
   "source": [
    "#Update components\n",
    "import os\n",
    "import pandas as pd\n",
    "from sklearn.model_selection import train_test_split\n",
    "\n",
    "from src.aws_mlflow_mlops import logger\n",
    "\n",
    "\n",
    "class DataTransformation:\n",
    "    def __init__(self, config: DataTransformationConfig):\n",
    "        self.config = config\n",
    "    \n",
    "    def train_test_splitting(self):\n",
    "        data = pd.read_csv(self.config.data_path)\n",
    "\n",
    "        train, test = train_test_split(data, test_size=0.2, random_state=42)\n",
    "\n",
    "        train.to_csv(os.path.join(self.config.root_dir, \"train.csv\"), index=False)\n",
    "        test.to_csv(os.path.join(self.config.root_dir, \"test.csv\"), index=False)\n",
    "\n",
    "        logger.info(\"Split data into train and test sets.\")\n",
    "        logger.info(f\"Train shape: {train.shape}\\n Test shape:{test.shape}\")\n",
    "\n",
    "        print(f\"Train shape: {train.shape}\\n Test shape:{test.shape}\")"
   ]
  },
  {
   "cell_type": "code",
   "execution_count": 14,
   "metadata": {},
   "outputs": [
    {
     "name": "stdout",
     "output_type": "stream",
     "text": [
      "[2023-11-14 15:58:09,600: INFO: common: yaml file: config/config.yaml loaded successfully]\n",
      "[2023-11-14 15:58:09,602: INFO: common: yaml file: params.yaml loaded successfully]\n",
      "[2023-11-14 15:58:09,604: INFO: common: yaml file: schema.yaml loaded successfully]\n",
      "[2023-11-14 15:58:09,605: INFO: common: created directory at: artifacts]\n",
      "[2023-11-14 15:58:09,606: INFO: common: created directory at: artifacts/data_transformation]\n",
      "[2023-11-14 15:58:09,668: INFO: 2936060203: Split data into train and test sets.]\n",
      "[2023-11-14 15:58:09,669: INFO: 2936060203: Train shape: (1279, 12)\n",
      " Test shape:(320, 12)]\n",
      "Train shape: (1279, 12)\n",
      " Test shape:(320, 12)\n"
     ]
    }
   ],
   "source": [
    "try:\n",
    "    config = ConfigurationManager()\n",
    "    data_transformaton_config = config.get_data_transformation_config()\n",
    "    data_transformation = DataTransformation(data_transformaton_config)\n",
    "    data_transformation.train_test_splitting()\n",
    "except Exception as e:\n",
    "    logger.exception(\"Failed to run data transformation.\")\n",
    "    raise e"
   ]
  },
  {
   "cell_type": "code",
   "execution_count": null,
   "metadata": {},
   "outputs": [],
   "source": []
  }
 ],
 "metadata": {
  "kernelspec": {
   "display_name": "aws-mlflow-mlops-4s9Eb2nN-py3.10",
   "language": "python",
   "name": "python3"
  },
  "language_info": {
   "codemirror_mode": {
    "name": "ipython",
    "version": 3
   },
   "file_extension": ".py",
   "mimetype": "text/x-python",
   "name": "python",
   "nbconvert_exporter": "python",
   "pygments_lexer": "ipython3",
   "version": "3.10.9"
  }
 },
 "nbformat": 4,
 "nbformat_minor": 2
}
