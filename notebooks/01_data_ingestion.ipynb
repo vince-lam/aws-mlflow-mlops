{
 "cells": [
  {
   "cell_type": "code",
   "execution_count": 1,
   "metadata": {},
   "outputs": [],
   "source": [
    "import os"
   ]
  },
  {
   "cell_type": "code",
   "execution_count": 2,
   "metadata": {},
   "outputs": [
    {
     "data": {
      "text/plain": [
       "'/Users/vince/code/projects/aws-mlflow-mlops/notebooks'"
      ]
     },
     "execution_count": 2,
     "metadata": {},
     "output_type": "execute_result"
    }
   ],
   "source": [
    "%pwd"
   ]
  },
  {
   "cell_type": "code",
   "execution_count": 3,
   "metadata": {},
   "outputs": [],
   "source": [
    "os.chdir(\"../\")"
   ]
  },
  {
   "cell_type": "code",
   "execution_count": 4,
   "metadata": {},
   "outputs": [
    {
     "data": {
      "text/plain": [
       "'/Users/vince/code/projects/aws-mlflow-mlops'"
      ]
     },
     "execution_count": 4,
     "metadata": {},
     "output_type": "execute_result"
    }
   ],
   "source": [
    "%pwd"
   ]
  },
  {
   "cell_type": "code",
   "execution_count": 5,
   "metadata": {},
   "outputs": [],
   "source": [
    "from dataclasses import dataclass\n",
    "from pathlib import Path\n",
    "\n",
    "\n",
    "@dataclass(frozen=True)\n",
    "class DataIngestionConfig:\n",
    "    root_dir: Path\n",
    "    source_URL: str\n",
    "    local_data_file: Path\n",
    "    unzip_dir: Path"
   ]
  },
  {
   "cell_type": "code",
   "execution_count": 6,
   "metadata": {},
   "outputs": [],
   "source": [
    "from src.aws_mlflow_mlops.constants import *\n",
    "from src.aws_mlflow_mlops.utils.common import read_yaml, create_directories"
   ]
  },
  {
   "cell_type": "code",
   "execution_count": 7,
   "metadata": {},
   "outputs": [],
   "source": [
    "class ConfigurationManager:\n",
    "    \"\"\"\n",
    "    The ConfigurationManager class is responsible for managing the configuration of the data ingestion process.\n",
    "    It reads configuration, parameters, and schema from YAML files, and creates necessary directories.\n",
    "\n",
    "    Attributes:\n",
    "        config (dict): Configuration read from a YAML file.\n",
    "        params (dict): Parameters read from a YAML file.\n",
    "        schema (dict): Schema read from a YAML file.\n",
    "    \"\"\"\n",
    "\n",
    "    def __init__(\n",
    "        self,\n",
    "        config_filepath=CONFIG_FILE_PATH,\n",
    "        params_filepath=PARAMS_FILE_PATH,\n",
    "        schema_filepath=SCHEMA_FILE_PATH,\n",
    "    ):\n",
    "        \"\"\"\n",
    "        The constructor for ConfigurationManager class.\n",
    "\n",
    "        Parameters:\n",
    "            config_filepath (str): The path to the configuration YAML file.\n",
    "            params_filepath (str): The path to the parameters YAML file.\n",
    "            schema_filepath (str): The path to the schema YAML file.\n",
    "        \"\"\"\n",
    "        self.config = read_yaml(config_filepath)\n",
    "        self.params = read_yaml(params_filepath)\n",
    "        self.schema = read_yaml(schema_filepath)\n",
    "\n",
    "        create_directories([self.config.artifacts_root])\n",
    "\n",
    "    def get_data_ingestion_config(self) -> DataIngestionConfig:\n",
    "        \"\"\"\n",
    "        The method to get the configuration for the data ingestion process.\n",
    "\n",
    "        Returns:\n",
    "            DataIngestionConfig: An object containing the configuration for the data ingestion process.\n",
    "        \"\"\"\n",
    "        config = self.config.data_ingestion\n",
    "\n",
    "        create_directories([config.root_dir])\n",
    "\n",
    "        data_ingestion_config = DataIngestionConfig(\n",
    "            root_dir=config.root_dir,\n",
    "            source_URL=config.source_URL,\n",
    "            local_data_file=config.local_data_file,\n",
    "            unzip_dir=config.unzip_dir,\n",
    "        )\n",
    "\n",
    "        return data_ingestion_config"
   ]
  },
  {
   "cell_type": "code",
   "execution_count": 8,
   "metadata": {},
   "outputs": [],
   "source": [
    "import os\n",
    "import urllib.request as request\n",
    "import zipfile\n",
    "\n",
    "from src.aws_mlflow_mlops import logger\n",
    "from src.aws_mlflow_mlops.utils.common import get_size"
   ]
  },
  {
   "cell_type": "code",
   "execution_count": 9,
   "metadata": {},
   "outputs": [],
   "source": [
    "class DataIngestion:\n",
    "    \"\"\"\n",
    "    The DataIngestion class is responsible for managing the data ingestion process.\n",
    "    It downloads and extracts data files based on the provided configuration.\n",
    "\n",
    "    Attributes:\n",
    "        config (DataIngestionConfig): An object containing the configuration for the data ingestion process.\n",
    "    \"\"\"\n",
    "\n",
    "    def __init__(self, config: DataIngestionConfig):\n",
    "        \"\"\"\n",
    "        The constructor for DataIngestion class.\n",
    "\n",
    "        Parameters:\n",
    "            config (DataIngestionConfig): An object containing the configuration for the data ingestion process.\n",
    "        \"\"\"\n",
    "        self.config = config\n",
    "\n",
    "    def download_file(self):\n",
    "        \"\"\"\n",
    "        The method to download a data file from a URL.\n",
    "        If the file already exists, it logs the file size.\n",
    "        \"\"\"\n",
    "        if not os.path.exists(self.config.local_data_file):\n",
    "            filename, headers = request.urlretrieve(\n",
    "                url=self.config.source_URL, filename=self.config.local_data_file\n",
    "            )\n",
    "            logger.info(f\"{filename} download! with following info: \\n{headers}\")\n",
    "        else:\n",
    "            logger.info(\n",
    "                f\"File already exists of size: {get_size(Path(self.config.local_data_file))}\"\n",
    "            )\n",
    "\n",
    "    def extract_zip_file(self):\n",
    "        \"\"\"\n",
    "        The method to extract a zip file to a specified directory.\n",
    "        If the directory does not exist, it creates the directory.\n",
    "        \"\"\"\n",
    "        unzip_path = self.config.unzip_dir\n",
    "        os.makedirs(unzip_path, exist_ok=True)\n",
    "        with zipfile.ZipFile(self.config.local_data_file, \"r\") as zip_ref:\n",
    "            zip_ref.extractall(unzip_path)"
   ]
  },
  {
   "cell_type": "code",
   "execution_count": 10,
   "metadata": {},
   "outputs": [
    {
     "name": "stdout",
     "output_type": "stream",
     "text": [
      "[2023-11-13 18:25:59,641: INFO: common: yaml file: config/config.yaml loaded successfully]\n",
      "[2023-11-13 18:25:59,642: INFO: common: yaml file: params.yaml loaded successfully]\n",
      "[2023-11-13 18:25:59,643: INFO: common: yaml file: schema.yaml loaded successfully]\n",
      "[2023-11-13 18:25:59,643: INFO: common: created directory at: artifacts]\n",
      "[2023-11-13 18:25:59,644: INFO: common: created directory at: artifacts/data_ingestion]\n",
      "[2023-11-13 18:26:03,096: INFO: 3602719923: artifacts/data_ingestion/data.zip download! with following info: \n",
      "Connection: close\n",
      "Content-Length: 23329\n",
      "Cache-Control: max-age=300\n",
      "Content-Security-Policy: default-src 'none'; style-src 'unsafe-inline'; sandbox\n",
      "Content-Type: application/zip\n",
      "ETag: \"c69888a4ae59bc5a893392785a938ccd4937981c06ba8a9d6a21aa52b4ab5b6e\"\n",
      "Strict-Transport-Security: max-age=31536000\n",
      "X-Content-Type-Options: nosniff\n",
      "X-Frame-Options: deny\n",
      "X-XSS-Protection: 1; mode=block\n",
      "X-GitHub-Request-Id: 5D00:DCF0:3A885E6:3D50221:6551F93E\n",
      "Accept-Ranges: bytes\n",
      "Date: Mon, 13 Nov 2023 10:26:02 GMT\n",
      "Via: 1.1 varnish\n",
      "X-Served-By: cache-lon420127-LON\n",
      "X-Cache: HIT\n",
      "X-Cache-Hits: 1\n",
      "X-Timer: S1699871163.851111,VS0,VE1\n",
      "Vary: Authorization,Accept-Encoding,Origin\n",
      "Access-Control-Allow-Origin: *\n",
      "Cross-Origin-Resource-Policy: cross-origin\n",
      "X-Fastly-Request-ID: 5d9c4bec9f225e70ade91519c4d2d77d94449594\n",
      "Expires: Mon, 13 Nov 2023 10:31:02 GMT\n",
      "Source-Age: 123\n",
      "\n",
      "]\n"
     ]
    }
   ],
   "source": [
    "try:\n",
    "    config = ConfigurationManager()\n",
    "    data_ingestion_config = config.get_data_ingestion_config()\n",
    "    data_ingestion = DataIngestion(config=data_ingestion_config)\n",
    "    data_ingestion.download_file()\n",
    "    data_ingestion.extract_zip_file()\n",
    "except Exception as e:\n",
    "    raise e"
   ]
  }
 ],
 "metadata": {
  "kernelspec": {
   "display_name": "aws-mlflow-mlops-4s9Eb2nN-py3.10",
   "language": "python",
   "name": "python3"
  },
  "language_info": {
   "codemirror_mode": {
    "name": "ipython",
    "version": 3
   },
   "file_extension": ".py",
   "mimetype": "text/x-python",
   "name": "python",
   "nbconvert_exporter": "python",
   "pygments_lexer": "ipython3",
   "version": "3.10.9"
  }
 },
 "nbformat": 4,
 "nbformat_minor": 2
}
